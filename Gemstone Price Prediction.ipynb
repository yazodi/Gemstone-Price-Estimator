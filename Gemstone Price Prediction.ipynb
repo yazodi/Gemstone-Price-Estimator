{
 "cells": [
  {
   "cell_type": "code",
   "execution_count": 1,
   "id": "a0a87d27-9840-49ed-9d09-37a07f38f160",
   "metadata": {},
   "outputs": [
    {
     "data": {
      "text/html": [
       "<div>\n",
       "<style scoped>\n",
       "    .dataframe tbody tr th:only-of-type {\n",
       "        vertical-align: middle;\n",
       "    }\n",
       "\n",
       "    .dataframe tbody tr th {\n",
       "        vertical-align: top;\n",
       "    }\n",
       "\n",
       "    .dataframe thead th {\n",
       "        text-align: right;\n",
       "    }\n",
       "</style>\n",
       "<table border=\"1\" class=\"dataframe\">\n",
       "  <thead>\n",
       "    <tr style=\"text-align: right;\">\n",
       "      <th></th>\n",
       "      <th>carat</th>\n",
       "      <th>depth</th>\n",
       "      <th>table</th>\n",
       "      <th>x</th>\n",
       "      <th>y</th>\n",
       "      <th>z</th>\n",
       "      <th>clarity_score</th>\n",
       "      <th>color_score</th>\n",
       "      <th>cut_score</th>\n",
       "      <th>price</th>\n",
       "    </tr>\n",
       "  </thead>\n",
       "  <tbody>\n",
       "    <tr>\n",
       "      <th>0</th>\n",
       "      <td>2.00</td>\n",
       "      <td>56.85</td>\n",
       "      <td>55.23</td>\n",
       "      <td>7.71</td>\n",
       "      <td>7.00</td>\n",
       "      <td>3.57</td>\n",
       "      <td>1</td>\n",
       "      <td>3</td>\n",
       "      <td>3</td>\n",
       "      <td>6270.17</td>\n",
       "    </tr>\n",
       "    <tr>\n",
       "      <th>1</th>\n",
       "      <td>4.76</td>\n",
       "      <td>60.42</td>\n",
       "      <td>54.94</td>\n",
       "      <td>8.58</td>\n",
       "      <td>8.64</td>\n",
       "      <td>3.89</td>\n",
       "      <td>1</td>\n",
       "      <td>6</td>\n",
       "      <td>3</td>\n",
       "      <td>12028.74</td>\n",
       "    </tr>\n",
       "    <tr>\n",
       "      <th>2</th>\n",
       "      <td>3.71</td>\n",
       "      <td>63.73</td>\n",
       "      <td>68.13</td>\n",
       "      <td>4.75</td>\n",
       "      <td>8.32</td>\n",
       "      <td>5.42</td>\n",
       "      <td>3</td>\n",
       "      <td>2</td>\n",
       "      <td>1</td>\n",
       "      <td>10865.45</td>\n",
       "    </tr>\n",
       "    <tr>\n",
       "      <th>3</th>\n",
       "      <td>3.07</td>\n",
       "      <td>62.32</td>\n",
       "      <td>54.99</td>\n",
       "      <td>7.37</td>\n",
       "      <td>4.08</td>\n",
       "      <td>3.36</td>\n",
       "      <td>5</td>\n",
       "      <td>7</td>\n",
       "      <td>2</td>\n",
       "      <td>10417.25</td>\n",
       "    </tr>\n",
       "    <tr>\n",
       "      <th>4</th>\n",
       "      <td>0.95</td>\n",
       "      <td>63.07</td>\n",
       "      <td>55.44</td>\n",
       "      <td>7.00</td>\n",
       "      <td>4.04</td>\n",
       "      <td>5.48</td>\n",
       "      <td>3</td>\n",
       "      <td>3</td>\n",
       "      <td>1</td>\n",
       "      <td>4318.55</td>\n",
       "    </tr>\n",
       "  </tbody>\n",
       "</table>\n",
       "</div>"
      ],
      "text/plain": [
       "   carat  depth  table     x     y     z  clarity_score  color_score  \\\n",
       "0   2.00  56.85  55.23  7.71  7.00  3.57              1            3   \n",
       "1   4.76  60.42  54.94  8.58  8.64  3.89              1            6   \n",
       "2   3.71  63.73  68.13  4.75  8.32  5.42              3            2   \n",
       "3   3.07  62.32  54.99  7.37  4.08  3.36              5            7   \n",
       "4   0.95  63.07  55.44  7.00  4.04  5.48              3            3   \n",
       "\n",
       "   cut_score     price  \n",
       "0          3   6270.17  \n",
       "1          3  12028.74  \n",
       "2          1  10865.45  \n",
       "3          2  10417.25  \n",
       "4          1   4318.55  "
      ]
     },
     "execution_count": 1,
     "metadata": {},
     "output_type": "execute_result"
    }
   ],
   "source": [
    "import pandas as pd\n",
    "import numpy as np\n",
    "\n",
    "np.random.seed(42)\n",
    "\n",
    "n_samples = 1000\n",
    "\n",
    "df = pd.DataFrame({\n",
    "    \"carat\": np.round(np.random.uniform(0.2, 5.0, n_samples), 2),\n",
    "    \"depth\": np.round(np.random.uniform(55, 65, n_samples), 2),\n",
    "    \"table\": np.round(np.random.uniform(50, 70, n_samples), 2),\n",
    "    \"x\": np.round(np.random.uniform(3.0, 10.0, n_samples), 2),\n",
    "    \"y\": np.round(np.random.uniform(3.0, 10.0, n_samples), 2),\n",
    "    \"z\": np.round(np.random.uniform(2.0, 6.0, n_samples), 2),\n",
    "    \"clarity_score\": np.random.randint(1, 10, n_samples),\n",
    "    \"color_score\": np.random.randint(1, 8, n_samples),\n",
    "    \"cut_score\": np.random.randint(1, 5, n_samples)\n",
    "})\n",
    "\n",
    "# Fiyat: karma bir fonksiyonla üretelim\n",
    "df[\"price\"] = (\n",
    "    df[\"carat\"] * 2000 +\n",
    "    df[\"depth\"] * 10 +\n",
    "    df[\"table\"] * 5 +\n",
    "    df[\"clarity_score\"] * 300 +\n",
    "    df[\"color_score\"] * 200 +\n",
    "    df[\"cut_score\"] * 150 +\n",
    "    np.random.normal(0, 500, n_samples)\n",
    ").round(2)\n",
    "\n",
    "df.to_csv(\"train.csv\", index=False)\n",
    "df.head()\n"
   ]
  },
  {
   "cell_type": "markdown",
   "id": "c92bd366-6b05-4383-8c97-2d150f238356",
   "metadata": {},
   "source": [
    "Veri Seti İçeriği (9 özellik + hedef)\n",
    "carat, depth, table, x, y, z: ölçüm özellikleri\n",
    "\n",
    "clarity_score, color_score, cut_score: sayısal olarak encode edilmiş kalite puanları\n",
    "\n",
    "price: hedef değişken"
   ]
  },
  {
   "cell_type": "markdown",
   "id": "fa1cecb3-11c3-4a4b-b599-68fbffccfc5e",
   "metadata": {},
   "source": [
    "yapay veri hazırladık şimdi modelleme yapablım\n"
   ]
  },
  {
   "cell_type": "code",
   "execution_count": 3,
   "id": "401f31b5-e2b8-4712-93be-da692a1abe37",
   "metadata": {},
   "outputs": [
    {
     "name": "stdout",
     "output_type": "stream",
     "text": [
      "✅ RMSE: 605.16\n",
      "✅ R² Score: 0.9549\n"
     ]
    }
   ],
   "source": [
    "from sklearn.model_selection import train_test_split\n",
    "from sklearn.ensemble import RandomForestRegressor\n",
    "from sklearn.metrics import mean_squared_error, r2_score\n",
    "import pandas as pd\n",
    "import numpy as np\n",
    "\n",
    "# Veriyi oku\n",
    "df = pd.read_csv(\"train.csv\")\n",
    "\n",
    "# Özellik ve hedef ayrımı\n",
    "X = df.drop(\"price\", axis=1)\n",
    "y = df[\"price\"]\n",
    "\n",
    "# Train/Test bölme\n",
    "X_train, X_test, y_train, y_test = train_test_split(X, y, test_size=0.2, random_state=42)\n",
    "\n",
    "# Model oluştur ve eğit\n",
    "model = RandomForestRegressor(n_estimators=100, random_state=42)\n",
    "model.fit(X_train, y_train)\n",
    "\n",
    "# Tahmin ve değerlendirme\n",
    "y_pred = model.predict(X_test)\n",
    "rmse = np.sqrt(mean_squared_error(y_test, y_pred))\n",
    "r2 = r2_score(y_test, y_pred)\n",
    "\n",
    "print(\"✅ RMSE:\", round(rmse, 2))\n",
    "print(\"✅ R² Score:\", round(r2, 4))\n"
   ]
  },
  {
   "cell_type": "markdown",
   "id": "581ff20c-de17-4da4-94a3-8b1d2154cb91",
   "metadata": {},
   "source": [
    "rmse düşük hata\n",
    "r2 score güclü bir model"
   ]
  },
  {
   "cell_type": "code",
   "execution_count": 4,
   "id": "f16960c3-a0a7-45f6-9639-f6cc9f8ee059",
   "metadata": {},
   "outputs": [
    {
     "data": {
      "text/plain": [
       "['model_columns.pkl']"
      ]
     },
     "execution_count": 4,
     "metadata": {},
     "output_type": "execute_result"
    }
   ],
   "source": [
    "import joblib\n",
    "\n",
    "# Model ve özellik adlarını kaydet\n",
    "joblib.dump(model, \"rf_model.pkl\")\n",
    "joblib.dump(list(X.columns), \"model_columns.pkl\")\n"
   ]
  },
  {
   "cell_type": "code",
   "execution_count": null,
   "id": "24f9ff85-8860-4518-99fe-32ce01f4e53c",
   "metadata": {},
   "outputs": [],
   "source": []
  }
 ],
 "metadata": {
  "kernelspec": {
   "display_name": "Python 3 (ipykernel)",
   "language": "python",
   "name": "python3"
  },
  "language_info": {
   "codemirror_mode": {
    "name": "ipython",
    "version": 3
   },
   "file_extension": ".py",
   "mimetype": "text/x-python",
   "name": "python",
   "nbconvert_exporter": "python",
   "pygments_lexer": "ipython3",
   "version": "3.12.9"
  }
 },
 "nbformat": 4,
 "nbformat_minor": 5
}
